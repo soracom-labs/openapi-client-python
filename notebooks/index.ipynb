{
 "cells": [
  {
   "cell_type": "markdown",
   "id": "b2f5337b",
   "metadata": {},
   "source": [
    "# SORACOM API client for Python based on OpenAPI Generator\n",
    "\n",
    "Welcome to the notebooks.\n",
    "[Prerequisites](#Prerequisites) (see below)\n",
    "\n",
    "* <a href=\"https://colab.research.google.com/github/soracom-labs/openapi-client-python/blob/main/\" target=\"_parent\"><img src=\"https://colab.research.google.com/assets/colab-badge.svg\" alt=\"Open In Colab\"/></a>"
   ]
  },
  {
   "cell_type": "markdown",
   "id": "66ce5c89",
   "metadata": {},
   "source": [
    "## Notebooks\n",
    "\n",
    "### SORACOM API\n",
    "1. [auth](auth.ipynb)\n",
    "2. [billing](billing.ipynb)\n",
    "3. [data_entry](data_entry.ipynb)\n",
    "4. [file_entry](file_entry.ipynb)\n",
    "5. [sim](sim.ipynb)\n",
    "\n",
    "### Sandbox API\n",
    "1. [sandbox](sandbox.ipynb)"
   ]
  },
  {
   "cell_type": "markdown",
   "id": "4d19bf2f",
   "metadata": {},
   "source": [
    "## Prerequisites\n",
    "\n",
    "### To understand\n",
    "- **Python**: [Python tutorial](https://docs.python.org/3/tutorial/)\n",
    "- **SORACOM API**: [SORACOM API Reference](https://users.soracom.io/ja-jp/tools/api/reference/)\n",
    "- **Sandbox API**: [Sandbox API Reference](https://users.soracom.io/ja-jp/tools/api-sandbox/reference/)"
   ]
  }
 ],
 "metadata": {
  "kernelspec": {
   "display_name": "Python 3 (ipykernel)",
   "language": "python",
   "name": "python3"
  },
  "language_info": {
   "codemirror_mode": {
    "name": "ipython",
    "version": 3
   },
   "file_extension": ".py",
   "mimetype": "text/x-python",
   "name": "python",
   "nbconvert_exporter": "python",
   "pygments_lexer": "ipython3",
   "version": "3.9.7"
  }
 },
 "nbformat": 4,
 "nbformat_minor": 5
}
