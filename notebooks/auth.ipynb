{
 "cells": [
  {
   "cell_type": "code",
   "execution_count": 1,
   "id": "3ca1308d-67c6-4bb2-947e-762772ffbc0a",
   "metadata": {},
   "outputs": [],
   "source": [
    "# import modules\n",
    "import os\n",
    "import soracom_api\n",
    "from soracom_api.api import auth_api\n",
    "from soracom_api.model.auth_request import AuthRequest\n",
    "from soracom_api.model.auth_response import AuthResponse"
   ]
  },
  {
   "cell_type": "markdown",
   "id": "09bedbe2",
   "metadata": {},
   "source": [
    "**References**\n",
    "- [SORACOM API リファレンス / Auth](https://users.soracom.io/ja-jp/tools/api/reference/#/Auth)"
   ]
  },
  {
   "cell_type": "code",
   "execution_count": 2,
   "id": "0b77ed56-2800-4ff3-9487-d07881eb09a7",
   "metadata": {},
   "outputs": [
    {
     "name": "stdout",
     "output_type": "stream",
     "text": [
      "<class 'soracom_api.model.auth_response.AuthResponse'>\n"
     ]
    }
   ],
   "source": [
    "host = \"https://g.api.soracom.io/v1\"\n",
    "auth_key = os.environ[\"SORACOM_AUTH_KEY\"]\n",
    "auth_key_id = os.environ[\"SORACOM_AUTH_KEY_ID\"]\n",
    "\n",
    "with soracom_api.ApiClient(configuration=soracom_api.Configuration(host=host)) as api_client:\n",
    "    auth_request = AuthRequest(\n",
    "        auth_key=auth_key,\n",
    "        auth_key_id=auth_key_id,\n",
    "    )\n",
    "    api_response: AuthResponse = auth_api.AuthApi(api_client).auth(auth_request)\n",
    "    print(api_response.__class__)\n",
    "    \n",
    "    # uncomment followings to see the api key and token\n",
    "    # print(api_response.get(\"api_key\"), api_response.get(\"token\"))"
   ]
  }
 ],
 "metadata": {
  "kernelspec": {
   "display_name": "Python 3 (ipykernel)",
   "language": "python",
   "name": "python3"
  },
  "language_info": {
   "codemirror_mode": {
    "name": "ipython",
    "version": 3
   },
   "file_extension": ".py",
   "mimetype": "text/x-python",
   "name": "python",
   "nbconvert_exporter": "python",
   "pygments_lexer": "ipython3",
   "version": "3.9.7"
  }
 },
 "nbformat": 4,
 "nbformat_minor": 5
}
