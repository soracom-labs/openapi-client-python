{
 "cells": [
  {
   "cell_type": "code",
   "execution_count": 1,
   "metadata": {},
   "outputs": [],
   "source": [
    "import os\n",
    "import constructs\n",
    "\n",
    "auth_key = os.environ[\"SORACOM_AUTH_KEY\"]\n",
    "auth_key_id = os.environ[\"SORACOM_AUTH_KEY_ID\"]\n",
    "config = constructs.auth(\n",
    "    auth_key=auth_key,\n",
    "    auth_key_id=auth_key_id,\n",
    "    coverage=constructs.Coverage.JAPAN,\n",
    ")"
   ]
  },
  {
   "cell_type": "markdown",
   "metadata": {},
   "source": [
    "**References**\n",
    "- [SORACOM API リファレンス / Billing](https://users.soracom.io/ja-jp/tools/api/reference/#/Billing)"
   ]
  },
  {
   "cell_type": "code",
   "execution_count": 2,
   "metadata": {},
   "outputs": [
    {
     "name": "stdout",
     "output_type": "stream",
     "text": [
      "<class 'soracom_api.model.monthly_bill.MonthlyBill'>\n",
      "{'amount': 1916967,\n",
      " 'payment_status': 'paid',\n",
      " 'payment_transaction_id': '20210201233734763_c74ed8ee-00ad-40af-936e-305de2bc6bcf',\n",
      " 'state': 'closed',\n",
      " 'year_month': '202101'}\n"
     ]
    }
   ],
   "source": [
    "import soracom_api\n",
    "from soracom_api.api import billing_api\n",
    "from soracom_api.model.monthly_bill import MonthlyBill\n",
    "\n",
    "from pprint import pprint\n",
    "\n",
    "with soracom_api.ApiClient(config) as api_client:\n",
    "    api_instance = billing_api.BillingApi(api_client)\n",
    "    api_response: MonthlyBill = api_instance.get_billing(yyyy_mm=\"202101\")\n",
    "    print(api_response.__class__)\n",
    "    pprint(api_response)\n"
   ]
  }
 ],
 "metadata": {
  "interpreter": {
   "hash": "6b78c94b9ca28b8ac4ae54fbd8032f87bdbbdc830c55fab0bb60ad53d561d9b2"
  },
  "kernelspec": {
   "display_name": "Python 3.9.7 ('.venv': poetry)",
   "language": "python",
   "name": "python3"
  },
  "language_info": {
   "codemirror_mode": {
    "name": "ipython",
    "version": 3
   },
   "file_extension": ".py",
   "mimetype": "text/x-python",
   "name": "python",
   "nbconvert_exporter": "python",
   "pygments_lexer": "ipython3",
   "version": "3.9.7"
  },
  "orig_nbformat": 4
 },
 "nbformat": 4,
 "nbformat_minor": 2
}
