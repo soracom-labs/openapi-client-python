{
 "cells": [
  {
   "cell_type": "code",
   "execution_count": 1,
   "metadata": {},
   "outputs": [],
   "source": [
    "import os\n",
    "import constructs\n",
    "\n",
    "auth_key = os.environ[\"SORACOM_AUTH_KEY\"]\n",
    "auth_key_id = os.environ[\"SORACOM_AUTH_KEY_ID\"]\n",
    "config = constructs.auth(\n",
    "    auth_key=auth_key,\n",
    "    auth_key_id=auth_key_id,\n",
    "    coverage=constructs.Coverage.JAPAN,\n",
    ")"
   ]
  },
  {
   "cell_type": "markdown",
   "metadata": {},
   "source": [
    "**References**\n",
    "- [SORACOM API リファレンス / DataEntry](https://users.soracom.io/ja-jp/tools/api/reference/#/DataEntry)"
   ]
  },
  {
   "cell_type": "code",
   "execution_count": 2,
   "metadata": {},
   "outputs": [
    {
     "name": "stdout",
     "output_type": "stream",
     "text": [
      "[{'content': '{\"payload\":\"eyJsYXQiOjAuMCwibG9uIjowLjAsImJhdCI6MC4wLCJycyI6MCwidGVtcCI6MC4wLCJodW1pIjowLjAsIngiOjAuMCwieSI6MC4wLCJ6IjowLjAsInR5cGUiOjB9\"}',\n",
      " 'content_type': 'application/json',\n",
      " 'time': 1647237592303},\n",
      " {'content': '{\"payload\":\"eyJsYXQiOjAuMCwibG9uIjowLjAsImJhdCI6MC4wLCJycyI6MCwidGVtcCI6MC4wLCJodW1pIjowLjAsIngiOjAuMCwieSI6MC4wLCJ6IjowLjAsInR5cGUiOjB9\"}',\n",
      " 'content_type': 'application/json',\n",
      " 'time': 1647237567589},\n",
      " {'content': '{\"payload\":\"eyJ0ZXh0IjoiR3lybyIsImluZGV4IjozMDMsImNvbmZpZGVuY2UiOjAuMTU2MjV9\"}',\n",
      " 'content_type': 'application/json',\n",
      " 'time': 1647235860322}]\n"
     ]
    }
   ],
   "source": [
    "import os\n",
    "import time\n",
    "from pprint import pprint\n",
    "\n",
    "import soracom_api\n",
    "from soracom_api.api import data_entry_api\n",
    "from soracom_api.model.data_entry import DataEntry\n",
    "\n",
    "imsi = os.environ[\"SORACOM_IMSI\"]\n",
    "now = int(time.time() * 1000)  # (unixtime in milliseconds)\n",
    "\n",
    "with soracom_api.ApiClient(config) as api_client:\n",
    "    api_instance = data_entry_api.DataEntryApi(api_client)\n",
    "    api_response: list[DataEntry] = api_instance.get_data_entries(\n",
    "        resource_type=\"Subscriber\",\n",
    "        resource_id=imsi,\n",
    "        _from=now - 1000 * 60 * 60 * 24 * 7,  # 1 week ago\n",
    "        to=now,\n",
    "        sort=\"desc\",\n",
    "        limit=3,\n",
    "    )\n",
    "    pprint(api_response)\n"
   ]
  }
 ],
 "metadata": {
  "interpreter": {
   "hash": "6b78c94b9ca28b8ac4ae54fbd8032f87bdbbdc830c55fab0bb60ad53d561d9b2"
  },
  "kernelspec": {
   "display_name": "Python 3.9.7 ('.venv': poetry)",
   "language": "python",
   "name": "python3"
  },
  "language_info": {
   "codemirror_mode": {
    "name": "ipython",
    "version": 3
   },
   "file_extension": ".py",
   "mimetype": "text/x-python",
   "name": "python",
   "nbconvert_exporter": "python",
   "pygments_lexer": "ipython3",
   "version": "3.9.7"
  },
  "orig_nbformat": 4
 },
 "nbformat": 4,
 "nbformat_minor": 2
}
