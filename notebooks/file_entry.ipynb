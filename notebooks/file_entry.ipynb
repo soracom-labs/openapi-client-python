{
 "cells": [
  {
   "cell_type": "code",
   "execution_count": 1,
   "metadata": {},
   "outputs": [],
   "source": [
    "import os\n",
    "import constructs\n",
    "\n",
    "auth_key = os.environ[\"SORACOM_AUTH_KEY\"]\n",
    "auth_key_id = os.environ[\"SORACOM_AUTH_KEY_ID\"]\n",
    "config = constructs.auth(\n",
    "    auth_key=auth_key,\n",
    "    auth_key_id=auth_key_id,\n",
    "    coverage=constructs.Coverage.JAPAN,\n",
    ")"
   ]
  },
  {
   "cell_type": "markdown",
   "metadata": {},
   "source": [
    "**References**\n",
    "- [SORACOM API リファレンス / FileEntry](https://users.soracom.io/ja-jp/tools/api/reference/#/FileEntry)"
   ]
  },
  {
   "cell_type": "code",
   "execution_count": 2,
   "metadata": {},
   "outputs": [
    {
     "name": "stdout",
     "output_type": "stream",
     "text": [
      "[{'created_time': 1561554387166,\n",
      " 'file_path': '/20190621/',\n",
      " 'filename': '20190621/',\n",
      " 'is_directory': True,\n",
      " 'last_modified_time': 1561554387166,\n",
      " 'operatorId': 'OP0059150966'}, {'content_length': 7880,\n",
      " 'content_type': 'image/png',\n",
      " 'created_time': 1623828851778,\n",
      " 'etag': '31b7f357df5bfdb2acf3ad10e069035a',\n",
      " 'expiryTime': 1686987313939.0,\n",
      " 'file_path': '/20190621/SISS027CL.png',\n",
      " 'filename': 'SISS027CL.png',\n",
      " 'is_directory': False,\n",
      " 'last_modified_time': 1623828913939,\n",
      " 'operatorId': 'OP0059150966'}]\n"
     ]
    }
   ],
   "source": [
    "import os\n",
    "\n",
    "import soracom_api\n",
    "from soracom_api.api import file_entry_api\n",
    "from soracom_api.model.file_entry import FileEntry\n",
    "\n",
    "prefix = os.environ[\"PREFIX\"]\n",
    "\n",
    "with soracom_api.ApiClient(config) as api_client:\n",
    "    api_instance = file_entry_api.FileEntryApi(api_client)\n",
    "    api_response: list[FileEntry] = api_instance.find_files(\n",
    "        scope=\"private\",  # str | Scope of the request\n",
    "        prefix=prefix,\n",
    "        limit=\"10\",  # str | Num of entries (optional) if omitted the server will use the default value of \"10\"\n",
    "    )\n",
    "    print(api_response)\n"
   ]
  }
 ],
 "metadata": {
  "interpreter": {
   "hash": "6b78c94b9ca28b8ac4ae54fbd8032f87bdbbdc830c55fab0bb60ad53d561d9b2"
  },
  "kernelspec": {
   "display_name": "Python 3.9.7 ('.venv': poetry)",
   "language": "python",
   "name": "python3"
  },
  "language_info": {
   "codemirror_mode": {
    "name": "ipython",
    "version": 3
   },
   "file_extension": ".py",
   "mimetype": "text/x-python",
   "name": "python",
   "nbconvert_exporter": "python",
   "pygments_lexer": "ipython3",
   "version": "3.9.7"
  },
  "orig_nbformat": 4
 },
 "nbformat": 4,
 "nbformat_minor": 2
}
