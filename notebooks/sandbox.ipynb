{
 "cells": [
  {
   "cell_type": "code",
   "execution_count": 1,
   "metadata": {},
   "outputs": [],
   "source": [
    "import os\n",
    "import constructs"
   ]
  },
  {
   "cell_type": "code",
   "execution_count": 2,
   "metadata": {},
   "outputs": [],
   "source": [
    "auth_key = os.environ[\"SORACOM_AUTH_KEY\"]\n",
    "auth_key_id = os.environ[\"SORACOM_AUTH_KEY_ID\"]\n",
    "sandbox_config = constructs.auth_sandbox(\n",
    "    auth_key=auth_key,\n",
    "    auth_key_id=auth_key_id,\n",
    ")"
   ]
  },
  {
   "cell_type": "markdown",
   "metadata": {},
   "source": [
    "**References**\n",
    "- [Sandbox API リファレンス](https://users.soracom.io/ja-jp/tools/api-sandbox/reference/)"
   ]
  },
  {
   "cell_type": "code",
   "execution_count": 3,
   "metadata": {},
   "outputs": [
    {
     "name": "stdout",
     "output_type": "stream",
     "text": [
      "{'apn': 'soracom-sandbox.io',\n",
      " 'iccid': '001017209113918',\n",
      " 'imsi': '001017209113918',\n",
      " 'ip_address': '10.142.220.84',\n",
      " 'moduleType': 'micro',\n",
      " 'msisdn': '999777493509',\n",
      " 'operator_id': 'OP9999999999',\n",
      " 'plan': 1.0,\n",
      " 'registration_secret': '25691',\n",
      " 'serial_number': 'TS8743762192821',\n",
      " 'sessionStatus': {'online': 0},\n",
      " 'simId': '001017209113918',\n",
      " 'subscription': 'plan01s',\n",
      " 'tags': {},\n",
      " 'type': 's1.standard'}\n"
     ]
    }
   ],
   "source": [
    "import soracom_sandbox\n",
    "from soracom_sandbox.api import subscriber_api\n",
    "from soracom_sandbox.model.sandbox_create_subscriber_response import SandboxCreateSubscriberResponse\n",
    "from soracom_sandbox.model.sandbox_create_subscriber_request import SandboxCreateSubscriberRequest\n",
    "\n",
    "with soracom_sandbox.ApiClient(sandbox_config) as api_client:\n",
    "    api_instance = subscriber_api.SubscriberApi(api_client)\n",
    "    sandbox_create_subscriber_request = SandboxCreateSubscriberRequest(\n",
    "        subscription=\"plan01s\",\n",
    "    )\n",
    "    api_response:SandboxCreateSubscriberResponse = api_instance.sandbox_create_subscriber(sandbox_create_subscriber_request=sandbox_create_subscriber_request)\n",
    "    print(api_response)\n",
    "\n",
    "imsi, registration_secret = api_response[\"imsi\"], api_response[\"registration_secret\"]"
   ]
  },
  {
   "cell_type": "markdown",
   "metadata": {},
   "source": [
    "**References**\n",
    "- [SORACOM API リファレンス :: Subscriber/registerSubscriber](https://users.soracom.io/ja-jp/tools/api/reference/#/Subscriber/registerSubscriber)"
   ]
  },
  {
   "cell_type": "code",
   "execution_count": 4,
   "metadata": {},
   "outputs": [],
   "source": [
    "# create api configuration instance\n",
    "import soracom_api\n",
    "config = soracom_api.Configuration(\n",
    "    host=constructs.Coverage.SANDBOX.value,\n",
    "    api_key={\n",
    "        \"api_key\": sandbox_config.api_key[\"api_key\"],\n",
    "        \"api_token\": sandbox_config.api_key[\"api_token\"]\n",
    "    },\n",
    ")"
   ]
  },
  {
   "cell_type": "code",
   "execution_count": 5,
   "metadata": {},
   "outputs": [
    {
     "name": "stdout",
     "output_type": "stream",
     "text": [
      "<class 'soracom_api.model.subscriber.Subscriber'>\n"
     ]
    }
   ],
   "source": [
    "import soracom_api\n",
    "from soracom_api.api import subscriber_api\n",
    "from soracom_api.model.subscriber import Subscriber\n",
    "from soracom_api.model.register_subscribers_request import RegisterSubscribersRequest\n",
    "from pprint import pprint\n",
    "\n",
    "\n",
    "with soracom_api.ApiClient(config) as api_client:\n",
    "    api_instance = subscriber_api.SubscriberApi(api_client)\n",
    "    register_subscribers_request = RegisterSubscribersRequest(\n",
    "        registration_secret=registration_secret,\n",
    "    )\n",
    "\n",
    "    api_response: Subscriber = api_instance.register_subscriber(imsi, register_subscribers_request)\n",
    "    pprint(api_response.__class__)"
   ]
  }
 ],
 "metadata": {
  "interpreter": {
   "hash": "6b78c94b9ca28b8ac4ae54fbd8032f87bdbbdc830c55fab0bb60ad53d561d9b2"
  },
  "kernelspec": {
   "display_name": "Python 3 (ipykernel)",
   "language": "python",
   "name": "python3"
  },
  "language_info": {
   "codemirror_mode": {
    "name": "ipython",
    "version": 3
   },
   "file_extension": ".py",
   "mimetype": "text/x-python",
   "name": "python",
   "nbconvert_exporter": "python",
   "pygments_lexer": "ipython3",
   "version": "3.9.7"
  }
 },
 "nbformat": 4,
 "nbformat_minor": 4
}
